{
 "cells": [
  {
   "cell_type": "code",
   "execution_count": 20,
   "metadata": {},
   "outputs": [],
   "source": [
    "import yfinance as yf\n",
    "import pandas as pd\n",
    "from datetime import datetime, timedelta"
   ]
  },
  {
   "cell_type": "code",
   "execution_count": 21,
   "metadata": {},
   "outputs": [],
   "source": [
    "\n",
    "# Define the list of stock tickers\n",
    "tickers = ['AAPL', 'AMZN', 'GOOG', 'META', 'MSFT', 'NVDA', 'TSLA']"
   ]
  },
  {
   "cell_type": "code",
   "execution_count": 22,
   "metadata": {},
   "outputs": [],
   "source": [
    "# Calculate the start and end dates\n",
    "end_date = datetime.today().strftime('%Y-%m-%d')\n",
    "start_date = (datetime.today() - timedelta(days=5*365)).strftime('%Y-%m-%d')"
   ]
  },
  {
   "cell_type": "code",
   "execution_count": 23,
   "metadata": {},
   "outputs": [
    {
     "name": "stderr",
     "output_type": "stream",
     "text": [
      "[*********************100%***********************]  7 of 7 completed\n"
     ]
    }
   ],
   "source": [
    "\n",
    "data = yf.download(tickers, start=start_date, end=end_date)['Close']\n",
    "data.reset_index(inplace=True)"
   ]
  },
  {
   "cell_type": "code",
   "execution_count": 24,
   "metadata": {},
   "outputs": [
    {
     "name": "stdout",
     "output_type": "stream",
     "text": [
      "Ticker       Date        AAPL        AMZN        GOOG        META        MSFT  \\\n",
      "0      2020-03-30   61.837044   98.197502   57.070686  165.171524  153.368729   \n",
      "1      2020-03-31   61.710846   97.486000   57.866421  166.017548  150.956680   \n",
      "2      2020-04-01   58.463806   95.385002   55.020397  158.851334  145.596466   \n",
      "3      2020-04-02   59.439369   95.941498   55.777809  157.447937  148.611557   \n",
      "4      2020-04-03   58.585136   95.329498   54.635223  153.456757  147.242783   \n",
      "...           ...         ...         ...         ...         ...         ...   \n",
      "1252   2025-03-24  220.729996  203.259995  169.929993  618.849976  393.079987   \n",
      "1253   2025-03-25  223.750000  205.710007  172.789993  626.309998  395.160004   \n",
      "1254   2025-03-26  221.529999  201.130005  167.139999  610.979980  389.970001   \n",
      "1255   2025-03-27  223.850006  201.360001  164.080002  602.580017  390.579987   \n",
      "1256   2025-03-28  217.899994  192.720001  156.059998  576.739990  378.799988   \n",
      "\n",
      "Ticker        NVDA        TSLA  \n",
      "0         6.615377   33.475334  \n",
      "1         6.565810   34.933334  \n",
      "2         6.054444   32.104000  \n",
      "3         6.363307   30.298000  \n",
      "4         6.075365   32.000668  \n",
      "...            ...         ...  \n",
      "1252    121.410004  278.390015  \n",
      "1253    120.690002  288.140015  \n",
      "1254    113.760002  272.059998  \n",
      "1255    111.430000  273.130005  \n",
      "1256    109.669998  263.549988  \n",
      "\n",
      "[1257 rows x 8 columns]\n"
     ]
    }
   ],
   "source": [
    "print(data)"
   ]
  },
  {
   "cell_type": "code",
   "execution_count": 26,
   "metadata": {},
   "outputs": [
    {
     "name": "stdout",
     "output_type": "stream",
     "text": [
      "Ticker       Date        AAPL        AMZN        GOOG        META        MSFT  \\\n",
      "0      2020-03-30   61.837044   98.197502   57.070686  165.171524  153.368729   \n",
      "1      2020-03-31   61.710846   97.486000   57.866421  166.017548  150.956680   \n",
      "2      2020-04-01   58.463806   95.385002   55.020397  158.851334  145.596466   \n",
      "3      2020-04-02   59.439369   95.941498   55.777809  157.447937  148.611557   \n",
      "4      2020-04-03   58.585136   95.329498   54.635223  153.456757  147.242783   \n",
      "...           ...         ...         ...         ...         ...         ...   \n",
      "1252   2025-03-24  220.729996  203.259995  169.929993  618.849976  393.079987   \n",
      "1253   2025-03-25  223.750000  205.710007  172.789993  626.309998  395.160004   \n",
      "1254   2025-03-26  221.529999  201.130005  167.139999  610.979980  389.970001   \n",
      "1255   2025-03-27  223.850006  201.360001  164.080002  602.580017  390.579987   \n",
      "1256   2025-03-28  217.899994  192.720001  156.059998  576.739990  378.799988   \n",
      "\n",
      "Ticker        NVDA        TSLA  \n",
      "0         6.615377   33.475334  \n",
      "1         6.565810   34.933334  \n",
      "2         6.054444   32.104000  \n",
      "3         6.363307   30.298000  \n",
      "4         6.075365   32.000668  \n",
      "...            ...         ...  \n",
      "1252    121.410004  278.390015  \n",
      "1253    120.690002  288.140015  \n",
      "1254    113.760002  272.059998  \n",
      "1255    111.430000  273.130005  \n",
      "1256    109.669998  263.549988  \n",
      "\n",
      "[1257 rows x 8 columns]\n"
     ]
    }
   ],
   "source": [
    "df = pd.DataFrame(data)\n",
    "\n",
    "print(df)"
   ]
  },
  {
   "cell_type": "code",
   "execution_count": 28,
   "metadata": {},
   "outputs": [
    {
     "name": "stdout",
     "output_type": "stream",
     "text": [
      "Index(['Date', 'AAPL', 'AMZN', 'GOOG', 'META', 'MSFT', 'NVDA', 'TSLA'], dtype='object', name='Ticker')\n"
     ]
    }
   ],
   "source": [
    "print(df.columns)"
   ]
  },
  {
   "cell_type": "code",
   "execution_count": 29,
   "metadata": {},
   "outputs": [
    {
     "name": "stdout",
     "output_type": "stream",
     "text": [
      "Ticker           AAPL       AMZN       GOOG        META        MSFT      NVDA  \\\n",
      "Date                                                                            \n",
      "2020-03-30  61.837044  98.197502  57.070686  165.171524  153.368729  6.615377   \n",
      "2020-03-31  61.710846  97.486000  57.866421  166.017548  150.956680  6.565810   \n",
      "2020-04-01  58.463806  95.385002  55.020397  158.851334  145.596466  6.054444   \n",
      "2020-04-02  59.439369  95.941498  55.777809  157.447937  148.611557  6.363307   \n",
      "2020-04-03  58.585136  95.329498  54.635223  153.456757  147.242783  6.075365   \n",
      "\n",
      "Ticker           TSLA  \n",
      "Date                   \n",
      "2020-03-30  33.475334  \n",
      "2020-03-31  34.933334  \n",
      "2020-04-01  32.104000  \n",
      "2020-04-02  30.298000  \n",
      "2020-04-03  32.000668  \n"
     ]
    }
   ],
   "source": [
    "df.set_index('Date', inplace=True)\n",
    "print(df.head())"
   ]
  },
  {
   "cell_type": "code",
   "execution_count": 30,
   "metadata": {},
   "outputs": [],
   "source": [
    "df.to_csv('stocks.csv')"
   ]
  }
 ],
 "metadata": {
  "kernelspec": {
   "display_name": ".venv",
   "language": "python",
   "name": "python3"
  },
  "language_info": {
   "codemirror_mode": {
    "name": "ipython",
    "version": 3
   },
   "file_extension": ".py",
   "mimetype": "text/x-python",
   "name": "python",
   "nbconvert_exporter": "python",
   "pygments_lexer": "ipython3",
   "version": "3.9.12"
  }
 },
 "nbformat": 4,
 "nbformat_minor": 2
}
